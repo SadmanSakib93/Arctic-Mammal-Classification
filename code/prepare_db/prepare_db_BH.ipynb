{
 "cells": [
  {
   "cell_type": "code",
   "execution_count": 1,
   "id": "9b6a5551",
   "metadata": {},
   "outputs": [
    {
     "name": "stderr",
     "output_type": "stream",
     "text": [
      "2021-11-30 22:43:51.215915: I tensorflow/core/platform/cpu_feature_guard.cc:142] This TensorFlow binary is optimized with oneAPI Deep Neural Network Library (oneDNN) to use the following CPU instructions in performance-critical operations:  AVX2 AVX512F FMA\n",
      "To enable them in other operations, rebuild TensorFlow with the appropriate compiler flags.\n",
      "2021-11-30 22:43:51.621566: I tensorflow/core/common_runtime/gpu/gpu_device.cc:1510] Created device /job:localhost/replica:0/task:0/device:GPU:0 with 10477 MB memory:  -> device: 0, name: NVIDIA TITAN V, pci bus id: 0000:a1:00.0, compute capability: 7.0\n",
      "/home/sadman/anaconda3/envs/deeplearning/lib/python3.7/site-packages/keras/optimizer_v2/optimizer_v2.py:356: UserWarning: The `lr` argument is deprecated, use `learning_rate` instead.\n",
      "  \"The `lr` argument is deprecated, use `learning_rate` instead.\")\n"
     ]
    }
   ],
   "source": [
    "import pandas as pd\n",
    "import random\n",
    "import librosa\n",
    "import os\n",
    "from ketos.data_handling.parsing import load_audio_representation\n",
    "from ketos.data_handling.database_interface import AudioWriter, create_database\n",
    "from ketos.data_handling import selection_table as sl"
   ]
  },
  {
   "cell_type": "markdown",
   "id": "45ae4a1f",
   "metadata": {},
   "source": [
    "# Initialization"
   ]
  },
  {
   "cell_type": "code",
   "execution_count": 2,
   "id": "564a6e6e",
   "metadata": {},
   "outputs": [],
   "source": [
    "# Database-related parameters\n",
    "db_name_string='CB300' # 'CB300' or 'CB50'\n",
    "data_dir='/data/WCS/' # Path to the folder that contains all the audio files\n",
    "dataset_name='/'+db_name_string\n",
    "\n",
    "spec_cfg = load_audio_representation('spec_config.json', name=\"spectrogram\")\n",
    "\n",
    "# Load annotation files\n",
    "root_path='/home/sadman/arctic_mammal/' # Root path to all code/annotation\n",
    "annot_filename=db_name_string+'_train.csv'\n",
    "\n",
    "db_save_path=root_path+'saved_database/'\n",
    "db_save_filename='db_test_'+str(spec_cfg['duration'])+'.h5'\n",
    "\n",
    "# If want to use all annotations, then keep False, otherwise if want to use annotations based on quality, then True\n",
    "filter_based_on_quality_flag=False \n",
    "\n",
    "annot_df=pd.read_csv(root_path+'annotations/train/'+annot_filename, sep=',')"
   ]
  },
  {
   "cell_type": "code",
   "execution_count": 3,
   "id": "dd9d9d71",
   "metadata": {},
   "outputs": [
    {
     "data": {
      "text/html": [
       "<div>\n",
       "<style scoped>\n",
       "    .dataframe tbody tr th:only-of-type {\n",
       "        vertical-align: middle;\n",
       "    }\n",
       "\n",
       "    .dataframe tbody tr th {\n",
       "        vertical-align: top;\n",
       "    }\n",
       "\n",
       "    .dataframe thead th {\n",
       "        text-align: right;\n",
       "    }\n",
       "</style>\n",
       "<table border=\"1\" class=\"dataframe\">\n",
       "  <thead>\n",
       "    <tr style=\"text-align: right;\">\n",
       "      <th></th>\n",
       "      <th>Selection</th>\n",
       "      <th>View</th>\n",
       "      <th>Channel</th>\n",
       "      <th>Begin Time (s)</th>\n",
       "      <th>End Time (s)</th>\n",
       "      <th>Delta Time (s)</th>\n",
       "      <th>File Offset (s)</th>\n",
       "      <th>Low Freq (Hz)</th>\n",
       "      <th>High Freq (Hz)</th>\n",
       "      <th>Peak Freq (Hz)</th>\n",
       "      <th>...</th>\n",
       "      <th>AR comment</th>\n",
       "      <th>SNR NIST Quick (dB FS)</th>\n",
       "      <th>SNR order</th>\n",
       "      <th>species</th>\n",
       "      <th>certainty</th>\n",
       "      <th>comment</th>\n",
       "      <th>type</th>\n",
       "      <th>WH ID</th>\n",
       "      <th>WH Comment</th>\n",
       "      <th>NEW analysis</th>\n",
       "    </tr>\n",
       "  </thead>\n",
       "  <tbody>\n",
       "    <tr>\n",
       "      <th>0</th>\n",
       "      <td>4825</td>\n",
       "      <td>Spectrogram 1</td>\n",
       "      <td>1</td>\n",
       "      <td>43005.721333</td>\n",
       "      <td>43007.475333</td>\n",
       "      <td>1.754</td>\n",
       "      <td>117.248</td>\n",
       "      <td>47.6</td>\n",
       "      <td>470.2</td>\n",
       "      <td>93.8</td>\n",
       "      <td>...</td>\n",
       "      <td>NaN</td>\n",
       "      <td>40.43</td>\n",
       "      <td>217</td>\n",
       "      <td>BH</td>\n",
       "      <td>High</td>\n",
       "      <td>NaN</td>\n",
       "      <td>NaN</td>\n",
       "      <td>NaN</td>\n",
       "      <td>NaN</td>\n",
       "      <td>y</td>\n",
       "    </tr>\n",
       "    <tr>\n",
       "      <th>1</th>\n",
       "      <td>2503</td>\n",
       "      <td>Spectrogram 1</td>\n",
       "      <td>1</td>\n",
       "      <td>13132.109667</td>\n",
       "      <td>13134.101667</td>\n",
       "      <td>1.992</td>\n",
       "      <td>235.314</td>\n",
       "      <td>185.6</td>\n",
       "      <td>676.6</td>\n",
       "      <td>199.2</td>\n",
       "      <td>...</td>\n",
       "      <td>NaN</td>\n",
       "      <td>13.13</td>\n",
       "      <td>4192</td>\n",
       "      <td>BH</td>\n",
       "      <td>High</td>\n",
       "      <td>ds</td>\n",
       "      <td>ssong</td>\n",
       "      <td>NaN</td>\n",
       "      <td>NaN</td>\n",
       "      <td>yes</td>\n",
       "    </tr>\n",
       "    <tr>\n",
       "      <th>2</th>\n",
       "      <td>9342</td>\n",
       "      <td>Spectrogram 1</td>\n",
       "      <td>1</td>\n",
       "      <td>141645.687633</td>\n",
       "      <td>141646.945633</td>\n",
       "      <td>1.258</td>\n",
       "      <td>81.163</td>\n",
       "      <td>64.1</td>\n",
       "      <td>163.1</td>\n",
       "      <td>117.2</td>\n",
       "      <td>...</td>\n",
       "      <td>NaN</td>\n",
       "      <td>2.31</td>\n",
       "      <td>5593</td>\n",
       "      <td>BH</td>\n",
       "      <td>High</td>\n",
       "      <td>NaN</td>\n",
       "      <td>NaN</td>\n",
       "      <td>NaN</td>\n",
       "      <td>NaN</td>\n",
       "      <td>NaN</td>\n",
       "    </tr>\n",
       "    <tr>\n",
       "      <th>3</th>\n",
       "      <td>5491</td>\n",
       "      <td>Spectrogram 1</td>\n",
       "      <td>1</td>\n",
       "      <td>53861.496367</td>\n",
       "      <td>53863.120367</td>\n",
       "      <td>1.624</td>\n",
       "      <td>175.749</td>\n",
       "      <td>61.9</td>\n",
       "      <td>216.5</td>\n",
       "      <td>175.8</td>\n",
       "      <td>...</td>\n",
       "      <td>NaN</td>\n",
       "      <td>26.63</td>\n",
       "      <td>3198</td>\n",
       "      <td>BH</td>\n",
       "      <td>High</td>\n",
       "      <td>NaN</td>\n",
       "      <td>NaN</td>\n",
       "      <td>NaN</td>\n",
       "      <td>NaN</td>\n",
       "      <td>y</td>\n",
       "    </tr>\n",
       "    <tr>\n",
       "      <th>4</th>\n",
       "      <td>11636</td>\n",
       "      <td>Spectrogram 1</td>\n",
       "      <td>1</td>\n",
       "      <td>187384.257000</td>\n",
       "      <td>187392.701000</td>\n",
       "      <td>8.444</td>\n",
       "      <td>232.162</td>\n",
       "      <td>67.2</td>\n",
       "      <td>7258.7</td>\n",
       "      <td>228.5</td>\n",
       "      <td>...</td>\n",
       "      <td>NaN</td>\n",
       "      <td>13.17</td>\n",
       "      <td>4177</td>\n",
       "      <td>BH</td>\n",
       "      <td>High</td>\n",
       "      <td>NaN</td>\n",
       "      <td>roar</td>\n",
       "      <td>NaN</td>\n",
       "      <td>NaN</td>\n",
       "      <td>yes</td>\n",
       "    </tr>\n",
       "    <tr>\n",
       "      <th>...</th>\n",
       "      <td>...</td>\n",
       "      <td>...</td>\n",
       "      <td>...</td>\n",
       "      <td>...</td>\n",
       "      <td>...</td>\n",
       "      <td>...</td>\n",
       "      <td>...</td>\n",
       "      <td>...</td>\n",
       "      <td>...</td>\n",
       "      <td>...</td>\n",
       "      <td>...</td>\n",
       "      <td>...</td>\n",
       "      <td>...</td>\n",
       "      <td>...</td>\n",
       "      <td>...</td>\n",
       "      <td>...</td>\n",
       "      <td>...</td>\n",
       "      <td>...</td>\n",
       "      <td>...</td>\n",
       "      <td>...</td>\n",
       "      <td>...</td>\n",
       "    </tr>\n",
       "    <tr>\n",
       "      <th>4780</th>\n",
       "      <td>11567</td>\n",
       "      <td>Spectrogram 1</td>\n",
       "      <td>1</td>\n",
       "      <td>186586.066033</td>\n",
       "      <td>186588.556033</td>\n",
       "      <td>2.490</td>\n",
       "      <td>33.841</td>\n",
       "      <td>59.4</td>\n",
       "      <td>344.6</td>\n",
       "      <td>64.5</td>\n",
       "      <td>...</td>\n",
       "      <td>NaN</td>\n",
       "      <td>34.10</td>\n",
       "      <td>1809</td>\n",
       "      <td>BH</td>\n",
       "      <td>High</td>\n",
       "      <td>NaN</td>\n",
       "      <td>NaN</td>\n",
       "      <td>NaN</td>\n",
       "      <td>NaN</td>\n",
       "      <td>yes</td>\n",
       "    </tr>\n",
       "    <tr>\n",
       "      <th>4781</th>\n",
       "      <td>9162</td>\n",
       "      <td>Spectrogram 1</td>\n",
       "      <td>1</td>\n",
       "      <td>137259.443700</td>\n",
       "      <td>137260.214700</td>\n",
       "      <td>0.771</td>\n",
       "      <td>193.645</td>\n",
       "      <td>93.2</td>\n",
       "      <td>314.6</td>\n",
       "      <td>193.4</td>\n",
       "      <td>...</td>\n",
       "      <td>NaN</td>\n",
       "      <td>37.61</td>\n",
       "      <td>758</td>\n",
       "      <td>BH</td>\n",
       "      <td>High</td>\n",
       "      <td>faint</td>\n",
       "      <td>us</td>\n",
       "      <td>NaN</td>\n",
       "      <td>NaN</td>\n",
       "      <td>NaN</td>\n",
       "    </tr>\n",
       "    <tr>\n",
       "      <th>4782</th>\n",
       "      <td>5464</td>\n",
       "      <td>Spectrogram 1</td>\n",
       "      <td>1</td>\n",
       "      <td>53505.164967</td>\n",
       "      <td>53506.853967</td>\n",
       "      <td>1.689</td>\n",
       "      <td>119.268</td>\n",
       "      <td>61.9</td>\n",
       "      <td>364.9</td>\n",
       "      <td>199.2</td>\n",
       "      <td>...</td>\n",
       "      <td>NaN</td>\n",
       "      <td>31.88</td>\n",
       "      <td>2503</td>\n",
       "      <td>BH</td>\n",
       "      <td>High</td>\n",
       "      <td>NaN</td>\n",
       "      <td>NaN</td>\n",
       "      <td>NaN</td>\n",
       "      <td>NaN</td>\n",
       "      <td>y</td>\n",
       "    </tr>\n",
       "    <tr>\n",
       "      <th>4783</th>\n",
       "      <td>6813</td>\n",
       "      <td>Spectrogram 1</td>\n",
       "      <td>1</td>\n",
       "      <td>84310.844367</td>\n",
       "      <td>84312.140367</td>\n",
       "      <td>1.296</td>\n",
       "      <td>31.579</td>\n",
       "      <td>80.2</td>\n",
       "      <td>246.2</td>\n",
       "      <td>123.0</td>\n",
       "      <td>...</td>\n",
       "      <td>NaN</td>\n",
       "      <td>30.93</td>\n",
       "      <td>2748</td>\n",
       "      <td>BH</td>\n",
       "      <td>High</td>\n",
       "      <td>NaN</td>\n",
       "      <td>NaN</td>\n",
       "      <td>NaN</td>\n",
       "      <td>NaN</td>\n",
       "      <td>NaN</td>\n",
       "    </tr>\n",
       "    <tr>\n",
       "      <th>4784</th>\n",
       "      <td>3813</td>\n",
       "      <td>Spectrogram 1</td>\n",
       "      <td>1</td>\n",
       "      <td>22990.207300</td>\n",
       "      <td>22991.077300</td>\n",
       "      <td>0.870</td>\n",
       "      <td>196.662</td>\n",
       "      <td>135.0</td>\n",
       "      <td>264.2</td>\n",
       "      <td>193.4</td>\n",
       "      <td>...</td>\n",
       "      <td>NaN</td>\n",
       "      <td>11.56</td>\n",
       "      <td>4772</td>\n",
       "      <td>BH</td>\n",
       "      <td>High</td>\n",
       "      <td>NaN</td>\n",
       "      <td>NaN</td>\n",
       "      <td>NaN</td>\n",
       "      <td>NaN</td>\n",
       "      <td>NaN</td>\n",
       "    </tr>\n",
       "  </tbody>\n",
       "</table>\n",
       "<p>4785 rows × 25 columns</p>\n",
       "</div>"
      ],
      "text/plain": [
       "      Selection           View  Channel  Begin Time (s)   End Time (s)  \\\n",
       "0          4825  Spectrogram 1        1    43005.721333   43007.475333   \n",
       "1          2503  Spectrogram 1        1    13132.109667   13134.101667   \n",
       "2          9342  Spectrogram 1        1   141645.687633  141646.945633   \n",
       "3          5491  Spectrogram 1        1    53861.496367   53863.120367   \n",
       "4         11636  Spectrogram 1        1   187384.257000  187392.701000   \n",
       "...         ...            ...      ...             ...            ...   \n",
       "4780      11567  Spectrogram 1        1   186586.066033  186588.556033   \n",
       "4781       9162  Spectrogram 1        1   137259.443700  137260.214700   \n",
       "4782       5464  Spectrogram 1        1    53505.164967   53506.853967   \n",
       "4783       6813  Spectrogram 1        1    84310.844367   84312.140367   \n",
       "4784       3813  Spectrogram 1        1    22990.207300   22991.077300   \n",
       "\n",
       "      Delta Time (s)  File Offset (s)  Low Freq (Hz)  High Freq (Hz)  \\\n",
       "0              1.754          117.248           47.6           470.2   \n",
       "1              1.992          235.314          185.6           676.6   \n",
       "2              1.258           81.163           64.1           163.1   \n",
       "3              1.624          175.749           61.9           216.5   \n",
       "4              8.444          232.162           67.2          7258.7   \n",
       "...              ...              ...            ...             ...   \n",
       "4780           2.490           33.841           59.4           344.6   \n",
       "4781           0.771          193.645           93.2           314.6   \n",
       "4782           1.689          119.268           61.9           364.9   \n",
       "4783           1.296           31.579           80.2           246.2   \n",
       "4784           0.870          196.662          135.0           264.2   \n",
       "\n",
       "      Peak Freq (Hz)  ... AR comment SNR NIST Quick (dB FS) SNR order  \\\n",
       "0               93.8  ...        NaN                  40.43       217   \n",
       "1              199.2  ...        NaN                  13.13      4192   \n",
       "2              117.2  ...        NaN                   2.31      5593   \n",
       "3              175.8  ...        NaN                  26.63      3198   \n",
       "4              228.5  ...        NaN                  13.17      4177   \n",
       "...              ...  ...        ...                    ...       ...   \n",
       "4780            64.5  ...        NaN                  34.10      1809   \n",
       "4781           193.4  ...        NaN                  37.61       758   \n",
       "4782           199.2  ...        NaN                  31.88      2503   \n",
       "4783           123.0  ...        NaN                  30.93      2748   \n",
       "4784           193.4  ...        NaN                  11.56      4772   \n",
       "\n",
       "      species  certainty comment   type  WH ID WH Comment NEW analysis  \n",
       "0          BH       High     NaN    NaN    NaN        NaN            y  \n",
       "1          BH       High      ds  ssong    NaN        NaN          yes  \n",
       "2          BH       High     NaN    NaN    NaN        NaN          NaN  \n",
       "3          BH       High     NaN    NaN    NaN        NaN            y  \n",
       "4          BH       High     NaN   roar    NaN        NaN          yes  \n",
       "...       ...        ...     ...    ...    ...        ...          ...  \n",
       "4780       BH       High     NaN    NaN    NaN        NaN          yes  \n",
       "4781       BH       High   faint     us    NaN        NaN          NaN  \n",
       "4782       BH       High     NaN    NaN    NaN        NaN            y  \n",
       "4783       BH       High     NaN    NaN    NaN        NaN          NaN  \n",
       "4784       BH       High     NaN    NaN    NaN        NaN          NaN  \n",
       "\n",
       "[4785 rows x 25 columns]"
      ]
     },
     "execution_count": 3,
     "metadata": {},
     "output_type": "execute_result"
    }
   ],
   "source": [
    "annot_df"
   ]
  },
  {
   "cell_type": "markdown",
   "id": "49dc92a6",
   "metadata": {},
   "source": [
    "# Annotation file pre-processing"
   ]
  },
  {
   "cell_type": "code",
   "execution_count": 4,
   "id": "0577bdde",
   "metadata": {},
   "outputs": [],
   "source": [
    "def delete_unnecessary_columns(annot_df, delete_columns=['Selection', 'View']):\n",
    "    \"\"\" Delete unwanted columns from the annotations dataframe\n",
    "     \n",
    "        Args:\n",
    "            annot_df: pandas DataFrame\n",
    "                Annotation table.\n",
    "            delete_columns: list\n",
    "                List of columns to delete from the annotations dataframe\n",
    "                default values ('Selection', 'View')\n",
    "\n",
    "        Returns:\n",
    "            annot_df: pandas DataFrame\n",
    "                Annotation table after removing listed columns\n",
    "\n",
    "    \"\"\"\n",
    "    for column in delete_columns:\n",
    "        del annot_df[column]\n",
    "    return annot_df\n",
    "\n",
    "annot_df=delete_unnecessary_columns(annot_df)\n",
    "\n",
    "annot_df.rename({'Begin Path': 'filename',\n",
    "                'File Offset (s)': 'start',\n",
    "                'species': 'label'}, axis='columns', inplace =True)\n",
    "\n",
    "# Modify filepath (Discard the drive location (e.g., D:/))\n",
    "annot_df['filename']=annot_df['filename'].apply(lambda x: x[3:len(x)]) \n",
    "# Modify filepath to replace \\ with / in the filename\n",
    "annot_df['filename']=annot_df['filename'].apply(lambda x: x.replace(\"\\\\\", \"/\")) \n",
    "# Modify filepath to add the data root dir (/data/WCS/)\n",
    "annot_df['filename']=annot_df['filename'].apply(lambda x: data_dir+x)\n",
    "# Calculate End time\n",
    "annot_df['end']=annot_df['start']+annot_df['Delta Time (s)']"
   ]
  },
  {
   "cell_type": "markdown",
   "id": "e44f59e0",
   "metadata": {},
   "source": [
    "# Add Negative samples"
   ]
  },
  {
   "cell_type": "code",
   "execution_count": 5,
   "id": "0f977644",
   "metadata": {},
   "outputs": [
    {
     "name": "stdout",
     "output_type": "stream",
     "text": [
      "list_of_wav_files:  813\n",
      "81\n"
     ]
    }
   ],
   "source": [
    "# Change the location of 'target_wav_location' to choose random neg samples from that location\n",
    "list_of_wav_files=annot_df['filename'].unique()\n",
    "print(\"list_of_wav_files: \", len(list_of_wav_files))\n",
    "\n",
    "# Define the ratio of files to select from the folder\n",
    "add_ratio=0.1\n",
    "total_files=int(len(list_of_wav_files)*add_ratio)\n",
    "print(total_files)\n",
    "\n",
    "# Now, generate list of unique file indices\n",
    "file_indices_random = random.sample(range(0, len(list_of_wav_files)), total_files)"
   ]
  },
  {
   "cell_type": "code",
   "execution_count": 6,
   "id": "ab2239ff",
   "metadata": {},
   "outputs": [
    {
     "name": "stdout",
     "output_type": "stream",
     "text": [
      "target_wav_filename: /data/WCS/Cape_Bathurst_300_2018_2019/1208533023.050316235015.wav\n",
      "Total annotations found:  2\n",
      "sel: 98\n",
      "sel_only_pos: 0\n",
      "sel_only_neg: 98\n",
      "Adding samples to /CB300\n"
     ]
    },
    {
     "name": "stderr",
     "output_type": "stream",
     "text": [
      "100%|███████████████████████████████████████████| 98/98 [00:02<00:00, 37.30it/s]\n"
     ]
    },
    {
     "name": "stdout",
     "output_type": "stream",
     "text": [
      "98 items saved to /home/sadman/arctic_mammal/saved_database/db_test_3.0.h5\n",
      "target_wav_filename: /data/WCS/Cape_Bathurst_300_2018_2019/1208533023.050109205015.wav\n",
      "Total annotations found:  7\n",
      "sel: 87\n",
      "sel_only_pos: 0\n",
      "sel_only_neg: 87\n",
      "Adding samples to /CB300\n"
     ]
    },
    {
     "name": "stderr",
     "output_type": "stream",
     "text": [
      "100%|███████████████████████████████████████████| 87/87 [00:02<00:00, 37.81it/s]\n"
     ]
    },
    {
     "name": "stdout",
     "output_type": "stream",
     "text": [
      "87 items saved to /home/sadman/arctic_mammal/saved_database/db_test_3.0.h5\n",
      "target_wav_filename: /data/WCS/Cape_Bathurst_300_2018_2019/1208533023.050112005015.wav\n",
      "Total annotations found:  20\n",
      "sel: 48\n",
      "sel_only_pos: 0\n",
      "sel_only_neg: 48\n",
      "Adding samples to /CB300\n"
     ]
    },
    {
     "name": "stderr",
     "output_type": "stream",
     "text": [
      "100%|███████████████████████████████████████████| 48/48 [00:01<00:00, 36.06it/s]\n"
     ]
    },
    {
     "name": "stdout",
     "output_type": "stream",
     "text": [
      "48 items saved to /home/sadman/arctic_mammal/saved_database/db_test_3.0.h5\n",
      "target_wav_filename: /data/WCS/Cape_Bathurst_300_2018_2019/1208533023.041221165015.wav\n",
      "Total annotations found:  3\n",
      "sel: 93\n",
      "sel_only_pos: 0\n",
      "sel_only_neg: 93\n",
      "Adding samples to /CB300\n"
     ]
    },
    {
     "name": "stderr",
     "output_type": "stream",
     "text": [
      "100%|███████████████████████████████████████████| 93/93 [00:02<00:00, 38.09it/s]\n"
     ]
    },
    {
     "name": "stdout",
     "output_type": "stream",
     "text": [
      "93 items saved to /home/sadman/arctic_mammal/saved_database/db_test_3.0.h5\n",
      "target_wav_filename: /data/WCS/Cape_Bathurst_300_2018_2019/1208533023.041013235015.wav\n",
      "Total annotations found:  14\n",
      "sel: 75\n",
      "sel_only_pos: 0\n",
      "sel_only_neg: 75\n",
      "Adding samples to /CB300\n"
     ]
    },
    {
     "name": "stderr",
     "output_type": "stream",
     "text": [
      "100%|███████████████████████████████████████████| 75/75 [00:01<00:00, 37.56it/s]\n"
     ]
    },
    {
     "name": "stdout",
     "output_type": "stream",
     "text": [
      "75 items saved to /home/sadman/arctic_mammal/saved_database/db_test_3.0.h5\n",
      "target_wav_filename: /data/WCS/Cape_Bathurst_300_2018_2019/1208533023.050108235015.wav\n",
      "Total annotations found:  8\n",
      "sel: 87\n",
      "sel_only_pos: 0\n",
      "sel_only_neg: 87\n",
      "Adding samples to /CB300\n"
     ]
    },
    {
     "name": "stderr",
     "output_type": "stream",
     "text": [
      "100%|███████████████████████████████████████████| 87/87 [00:02<00:00, 38.38it/s]\n"
     ]
    },
    {
     "name": "stdout",
     "output_type": "stream",
     "text": [
      "87 items saved to /home/sadman/arctic_mammal/saved_database/db_test_3.0.h5\n",
      "target_wav_filename: /data/WCS/Cape_Bathurst_300_2018_2019/1208533023.041125135015.wav\n",
      "Total annotations found:  7\n",
      "sel: 85\n",
      "sel_only_pos: 0\n",
      "sel_only_neg: 85\n",
      "Adding samples to /CB300\n"
     ]
    },
    {
     "name": "stderr",
     "output_type": "stream",
     "text": [
      "100%|███████████████████████████████████████████| 85/85 [00:02<00:00, 36.36it/s]\n"
     ]
    },
    {
     "name": "stdout",
     "output_type": "stream",
     "text": [
      "85 items saved to /home/sadman/arctic_mammal/saved_database/db_test_3.0.h5\n",
      "target_wav_filename: /data/WCS/Cape_Bathurst_300_2018_2019/1208533023.050317035015.wav\n",
      "Total annotations found:  8\n",
      "sel: 87\n",
      "sel_only_pos: 0\n",
      "sel_only_neg: 87\n",
      "Adding samples to /CB300\n"
     ]
    },
    {
     "name": "stderr",
     "output_type": "stream",
     "text": [
      "100%|███████████████████████████████████████████| 87/87 [00:02<00:00, 37.03it/s]\n"
     ]
    },
    {
     "name": "stdout",
     "output_type": "stream",
     "text": [
      "87 items saved to /home/sadman/arctic_mammal/saved_database/db_test_3.0.h5\n",
      "target_wav_filename: /data/WCS/Cape_Bathurst_300_2018_2019/1208533023.041022225015.wav\n",
      "Total annotations found:  6\n",
      "sel: 91\n",
      "sel_only_pos: 0\n",
      "sel_only_neg: 91\n",
      "Adding samples to /CB300\n"
     ]
    },
    {
     "name": "stderr",
     "output_type": "stream",
     "text": [
      "100%|███████████████████████████████████████████| 91/91 [00:02<00:00, 37.60it/s]\n"
     ]
    },
    {
     "name": "stdout",
     "output_type": "stream",
     "text": [
      "91 items saved to /home/sadman/arctic_mammal/saved_database/db_test_3.0.h5\n",
      "target_wav_filename: /data/WCS/Cape_Bathurst_300_2018_2019/1208533023.050109115015.wav\n",
      "Total annotations found:  13\n",
      "sel: 76\n",
      "sel_only_pos: 0\n",
      "sel_only_neg: 76\n",
      "Adding samples to /CB300\n"
     ]
    },
    {
     "name": "stderr",
     "output_type": "stream",
     "text": [
      "100%|███████████████████████████████████████████| 76/76 [00:01<00:00, 39.50it/s]\n"
     ]
    },
    {
     "name": "stdout",
     "output_type": "stream",
     "text": [
      "76 items saved to /home/sadman/arctic_mammal/saved_database/db_test_3.0.h5\n",
      "target_wav_filename: /data/WCS/Cape_Bathurst_300_2018_2019/1208533023.041225165015.wav\n",
      "Total annotations found:  3\n",
      "sel: 96\n",
      "sel_only_pos: 0\n",
      "sel_only_neg: 96\n",
      "Adding samples to /CB300\n"
     ]
    },
    {
     "name": "stderr",
     "output_type": "stream",
     "text": [
      "100%|███████████████████████████████████████████| 96/96 [00:02<00:00, 38.22it/s]\n"
     ]
    },
    {
     "name": "stdout",
     "output_type": "stream",
     "text": [
      "96 items saved to /home/sadman/arctic_mammal/saved_database/db_test_3.0.h5\n",
      "target_wav_filename: /data/WCS/Cape_Bathurst_300_2018_2019/1208533023.041220125015.wav\n",
      "Total annotations found:  6\n",
      "sel: 91\n",
      "sel_only_pos: 0\n",
      "sel_only_neg: 91\n",
      "Adding samples to /CB300\n"
     ]
    },
    {
     "name": "stderr",
     "output_type": "stream",
     "text": [
      "100%|███████████████████████████████████████████| 91/91 [00:02<00:00, 38.31it/s]\n"
     ]
    },
    {
     "name": "stdout",
     "output_type": "stream",
     "text": [
      "91 items saved to /home/sadman/arctic_mammal/saved_database/db_test_3.0.h5\n",
      "target_wav_filename: /data/WCS/Cape_Bathurst_300_2018_2019/1208533023.041102055015.wav\n",
      "Total annotations found:  2\n",
      "sel: 97\n",
      "sel_only_pos: 0\n",
      "sel_only_neg: 97\n",
      "Adding samples to /CB300\n"
     ]
    },
    {
     "name": "stderr",
     "output_type": "stream",
     "text": [
      "100%|███████████████████████████████████████████| 97/97 [00:02<00:00, 37.64it/s]\n"
     ]
    },
    {
     "name": "stdout",
     "output_type": "stream",
     "text": [
      "97 items saved to /home/sadman/arctic_mammal/saved_database/db_test_3.0.h5\n",
      "target_wav_filename: /data/WCS/Cape_Bathurst_300_2018_2019/1208533023.050104165015.wav\n",
      "Total annotations found:  15\n",
      "sel: 80\n",
      "sel_only_pos: 0\n",
      "sel_only_neg: 80\n",
      "Adding samples to /CB300\n"
     ]
    },
    {
     "name": "stderr",
     "output_type": "stream",
     "text": [
      "100%|███████████████████████████████████████████| 80/80 [00:02<00:00, 37.70it/s]\n"
     ]
    },
    {
     "name": "stdout",
     "output_type": "stream",
     "text": [
      "80 items saved to /home/sadman/arctic_mammal/saved_database/db_test_3.0.h5\n",
      "target_wav_filename: /data/WCS/Cape_Bathurst_300_2018_2019/1208533023.050103005015.wav\n",
      "Total annotations found:  5\n",
      "sel: 95\n",
      "sel_only_pos: 0\n",
      "sel_only_neg: 95\n",
      "Adding samples to /CB300\n"
     ]
    },
    {
     "name": "stderr",
     "output_type": "stream",
     "text": [
      "100%|███████████████████████████████████████████| 95/95 [00:03<00:00, 29.56it/s]\n"
     ]
    },
    {
     "name": "stdout",
     "output_type": "stream",
     "text": [
      "95 items saved to /home/sadman/arctic_mammal/saved_database/db_test_3.0.h5\n",
      "target_wav_filename: /data/WCS/Cape_Bathurst_300_2018_2019/1208533023.050108135015.wav\n",
      "Total annotations found:  3\n",
      "sel: 96\n",
      "sel_only_pos: 0\n",
      "sel_only_neg: 96\n",
      "Adding samples to /CB300\n"
     ]
    },
    {
     "name": "stderr",
     "output_type": "stream",
     "text": [
      "100%|███████████████████████████████████████████| 96/96 [00:02<00:00, 38.81it/s]\n"
     ]
    },
    {
     "name": "stdout",
     "output_type": "stream",
     "text": [
      "96 items saved to /home/sadman/arctic_mammal/saved_database/db_test_3.0.h5\n",
      "target_wav_filename: /data/WCS/Cape_Bathurst_300_2018_2019/1208533023.041219215015.wav\n",
      "Total annotations found:  2\n",
      "sel: 96\n",
      "sel_only_pos: 0\n",
      "sel_only_neg: 96\n",
      "Adding samples to /CB300\n"
     ]
    },
    {
     "name": "stderr",
     "output_type": "stream",
     "text": [
      "100%|███████████████████████████████████████████| 96/96 [00:02<00:00, 36.46it/s]\n"
     ]
    },
    {
     "name": "stdout",
     "output_type": "stream",
     "text": [
      "96 items saved to /home/sadman/arctic_mammal/saved_database/db_test_3.0.h5\n",
      "target_wav_filename: /data/WCS/Cape_Bathurst_300_2018_2019/1208533023.041101065015.wav\n",
      "Total annotations found:  2\n",
      "sel: 97\n",
      "sel_only_pos: 0\n",
      "sel_only_neg: 97\n",
      "Adding samples to /CB300\n"
     ]
    },
    {
     "name": "stderr",
     "output_type": "stream",
     "text": [
      "100%|███████████████████████████████████████████| 97/97 [00:02<00:00, 38.08it/s]\n"
     ]
    },
    {
     "name": "stdout",
     "output_type": "stream",
     "text": [
      "97 items saved to /home/sadman/arctic_mammal/saved_database/db_test_3.0.h5\n",
      "target_wav_filename: /data/WCS/Cape_Bathurst_300_2018_2019/1208533023.050113225015.wav\n",
      "Total annotations found:  6\n",
      "sel: 89\n",
      "sel_only_pos: 0\n",
      "sel_only_neg: 89\n",
      "Adding samples to /CB300\n"
     ]
    },
    {
     "name": "stderr",
     "output_type": "stream",
     "text": [
      "100%|███████████████████████████████████████████| 89/89 [00:02<00:00, 36.60it/s]\n"
     ]
    },
    {
     "name": "stdout",
     "output_type": "stream",
     "text": [
      "89 items saved to /home/sadman/arctic_mammal/saved_database/db_test_3.0.h5\n",
      "target_wav_filename: /data/WCS/Cape_Bathurst_300_2018_2019/1208533023.041023045015.wav\n",
      "Total annotations found:  9\n",
      "sel: 86\n",
      "sel_only_pos: 0\n",
      "sel_only_neg: 86\n",
      "Adding samples to /CB300\n"
     ]
    },
    {
     "name": "stderr",
     "output_type": "stream",
     "text": [
      "100%|███████████████████████████████████████████| 86/86 [00:02<00:00, 38.63it/s]\n"
     ]
    },
    {
     "name": "stdout",
     "output_type": "stream",
     "text": [
      "86 items saved to /home/sadman/arctic_mammal/saved_database/db_test_3.0.h5\n",
      "target_wav_filename: /data/WCS/Cape_Bathurst_300_2018_2019/1208533023.041014125015.wav\n",
      "Total annotations found:  13\n",
      "sel: 82\n",
      "sel_only_pos: 0\n",
      "sel_only_neg: 82\n",
      "Adding samples to /CB300\n"
     ]
    },
    {
     "name": "stderr",
     "output_type": "stream",
     "text": [
      "100%|███████████████████████████████████████████| 82/82 [00:02<00:00, 36.88it/s]\n"
     ]
    },
    {
     "name": "stdout",
     "output_type": "stream",
     "text": [
      "82 items saved to /home/sadman/arctic_mammal/saved_database/db_test_3.0.h5\n",
      "target_wav_filename: /data/WCS/Cape_Bathurst_300_2018_2019/1208533023.050216005015.wav\n",
      "Total annotations found:  3\n",
      "sel: 95\n",
      "sel_only_pos: 0\n",
      "sel_only_neg: 95\n",
      "Adding samples to /CB300\n"
     ]
    },
    {
     "name": "stderr",
     "output_type": "stream",
     "text": [
      "100%|███████████████████████████████████████████| 95/95 [00:02<00:00, 38.49it/s]\n"
     ]
    },
    {
     "name": "stdout",
     "output_type": "stream",
     "text": [
      "95 items saved to /home/sadman/arctic_mammal/saved_database/db_test_3.0.h5\n",
      "target_wav_filename: /data/WCS/Cape_Bathurst_300_2018_2019/1208533023.050218165015.wav\n",
      "Total annotations found:  21\n",
      "sel: 68\n",
      "sel_only_pos: 0\n",
      "sel_only_neg: 68\n",
      "Adding samples to /CB300\n"
     ]
    },
    {
     "name": "stderr",
     "output_type": "stream",
     "text": [
      "100%|███████████████████████████████████████████| 68/68 [00:01<00:00, 37.57it/s]\n"
     ]
    },
    {
     "name": "stdout",
     "output_type": "stream",
     "text": [
      "68 items saved to /home/sadman/arctic_mammal/saved_database/db_test_3.0.h5\n",
      "target_wav_filename: /data/WCS/Cape_Bathurst_300_2018_2019/1208533023.041031185015.wav\n",
      "Total annotations found:  17\n",
      "sel: 67\n",
      "sel_only_pos: 0\n",
      "sel_only_neg: 67\n",
      "Adding samples to /CB300\n"
     ]
    },
    {
     "name": "stderr",
     "output_type": "stream",
     "text": [
      "100%|███████████████████████████████████████████| 67/67 [00:01<00:00, 37.87it/s]\n"
     ]
    },
    {
     "name": "stdout",
     "output_type": "stream",
     "text": [
      "67 items saved to /home/sadman/arctic_mammal/saved_database/db_test_3.0.h5\n",
      "target_wav_filename: /data/WCS/Cape_Bathurst_300_2018_2019/1208533023.050119175015.wav\n",
      "Total annotations found:  1\n",
      "sel: 98\n",
      "sel_only_pos: 0\n",
      "sel_only_neg: 98\n",
      "Adding samples to /CB300\n"
     ]
    },
    {
     "name": "stderr",
     "output_type": "stream",
     "text": [
      "100%|███████████████████████████████████████████| 98/98 [00:02<00:00, 37.84it/s]\n"
     ]
    },
    {
     "name": "stdout",
     "output_type": "stream",
     "text": [
      "98 items saved to /home/sadman/arctic_mammal/saved_database/db_test_3.0.h5\n",
      "target_wav_filename: /data/WCS/Cape_Bathurst_300_2018_2019/1208533023.050218195015.wav\n",
      "Total annotations found:  5\n",
      "sel: 89\n",
      "sel_only_pos: 0\n",
      "sel_only_neg: 89\n",
      "Adding samples to /CB300\n"
     ]
    },
    {
     "name": "stderr",
     "output_type": "stream",
     "text": [
      "100%|███████████████████████████████████████████| 89/89 [00:02<00:00, 37.76it/s]\n"
     ]
    },
    {
     "name": "stdout",
     "output_type": "stream",
     "text": [
      "89 items saved to /home/sadman/arctic_mammal/saved_database/db_test_3.0.h5\n",
      "target_wav_filename: /data/WCS/Cape_Bathurst_300_2018_2019/1208533023.041125185015.wav\n",
      "Total annotations found:  4\n",
      "sel: 92\n",
      "sel_only_pos: 0\n",
      "sel_only_neg: 92\n",
      "Adding samples to /CB300\n"
     ]
    },
    {
     "name": "stderr",
     "output_type": "stream",
     "text": [
      "100%|███████████████████████████████████████████| 92/92 [00:03<00:00, 28.73it/s]\n"
     ]
    },
    {
     "name": "stdout",
     "output_type": "stream",
     "text": [
      "92 items saved to /home/sadman/arctic_mammal/saved_database/db_test_3.0.h5\n",
      "target_wav_filename: /data/WCS/Cape_Bathurst_300_2018_2019/1208533023.041010075015.wav\n",
      "Total annotations found:  2\n",
      "sel: 97\n",
      "sel_only_pos: 0\n",
      "sel_only_neg: 97\n",
      "Adding samples to /CB300\n"
     ]
    },
    {
     "name": "stderr",
     "output_type": "stream",
     "text": [
      "100%|███████████████████████████████████████████| 97/97 [00:02<00:00, 37.76it/s]\n"
     ]
    },
    {
     "name": "stdout",
     "output_type": "stream",
     "text": [
      "97 items saved to /home/sadman/arctic_mammal/saved_database/db_test_3.0.h5\n",
      "target_wav_filename: /data/WCS/Cape_Bathurst_300_2018_2019/1208533023.050109155015.wav\n",
      "Total annotations found:  18\n",
      "sel: 69\n",
      "sel_only_pos: 0\n",
      "sel_only_neg: 69\n",
      "Adding samples to /CB300\n"
     ]
    },
    {
     "name": "stderr",
     "output_type": "stream",
     "text": [
      "100%|███████████████████████████████████████████| 69/69 [00:01<00:00, 37.47it/s]\n"
     ]
    },
    {
     "name": "stdout",
     "output_type": "stream",
     "text": [
      "69 items saved to /home/sadman/arctic_mammal/saved_database/db_test_3.0.h5\n",
      "target_wav_filename: /data/WCS/Cape_Bathurst_300_2018_2019/1208533023.050210035015.wav\n",
      "Total annotations found:  2\n",
      "sel: 96\n",
      "sel_only_pos: 0\n",
      "sel_only_neg: 96\n",
      "Adding samples to /CB300\n"
     ]
    },
    {
     "name": "stderr",
     "output_type": "stream",
     "text": [
      "100%|███████████████████████████████████████████| 96/96 [00:02<00:00, 38.55it/s]\n"
     ]
    },
    {
     "name": "stdout",
     "output_type": "stream",
     "text": [
      "96 items saved to /home/sadman/arctic_mammal/saved_database/db_test_3.0.h5\n",
      "target_wav_filename: /data/WCS/Cape_Bathurst_300_2018_2019/1208533023.041114205015.wav\n",
      "Total annotations found:  2\n",
      "sel: 98\n",
      "sel_only_pos: 0\n",
      "sel_only_neg: 98\n",
      "Adding samples to /CB300\n"
     ]
    },
    {
     "name": "stderr",
     "output_type": "stream",
     "text": [
      "100%|███████████████████████████████████████████| 98/98 [00:02<00:00, 37.73it/s]\n"
     ]
    },
    {
     "name": "stdout",
     "output_type": "stream",
     "text": [
      "98 items saved to /home/sadman/arctic_mammal/saved_database/db_test_3.0.h5\n",
      "target_wav_filename: /data/WCS/Cape_Bathurst_300_2018_2019/1208533023.050217005015.wav\n",
      "Total annotations found:  1\n",
      "sel: 99\n",
      "sel_only_pos: 0\n",
      "sel_only_neg: 99\n",
      "Adding samples to /CB300\n"
     ]
    },
    {
     "name": "stderr",
     "output_type": "stream",
     "text": [
      "100%|███████████████████████████████████████████| 99/99 [00:02<00:00, 37.96it/s]\n"
     ]
    },
    {
     "name": "stdout",
     "output_type": "stream",
     "text": [
      "99 items saved to /home/sadman/arctic_mammal/saved_database/db_test_3.0.h5\n",
      "target_wav_filename: /data/WCS/Cape_Bathurst_300_2018_2019/1208533023.050110025015.wav\n",
      "Total annotations found:  9\n",
      "sel: 86\n",
      "sel_only_pos: 0\n",
      "sel_only_neg: 86\n",
      "Adding samples to /CB300\n"
     ]
    },
    {
     "name": "stderr",
     "output_type": "stream",
     "text": [
      "100%|███████████████████████████████████████████| 86/86 [00:02<00:00, 38.16it/s]\n"
     ]
    },
    {
     "name": "stdout",
     "output_type": "stream",
     "text": [
      "86 items saved to /home/sadman/arctic_mammal/saved_database/db_test_3.0.h5\n",
      "target_wav_filename: /data/WCS/Cape_Bathurst_300_2018_2019/1208533023.041028185015.wav\n",
      "Total annotations found:  6\n",
      "sel: 89\n",
      "sel_only_pos: 0\n",
      "sel_only_neg: 89\n",
      "Adding samples to /CB300\n"
     ]
    },
    {
     "name": "stderr",
     "output_type": "stream",
     "text": [
      "100%|███████████████████████████████████████████| 89/89 [00:02<00:00, 36.66it/s]\n"
     ]
    },
    {
     "name": "stdout",
     "output_type": "stream",
     "text": [
      "89 items saved to /home/sadman/arctic_mammal/saved_database/db_test_3.0.h5\n",
      "target_wav_filename: /data/WCS/Cape_Bathurst_300_2018_2019/1208533023.050116155015.wav\n",
      "Total annotations found:  10\n",
      "sel: 88\n",
      "sel_only_pos: 0\n",
      "sel_only_neg: 88\n",
      "Adding samples to /CB300\n"
     ]
    },
    {
     "name": "stderr",
     "output_type": "stream",
     "text": [
      "100%|███████████████████████████████████████████| 88/88 [00:02<00:00, 37.92it/s]\n"
     ]
    },
    {
     "name": "stdout",
     "output_type": "stream",
     "text": [
      "88 items saved to /home/sadman/arctic_mammal/saved_database/db_test_3.0.h5\n",
      "target_wav_filename: /data/WCS/Cape_Bathurst_300_2018_2019/1208533023.050106205015.wav\n",
      "Total annotations found:  2\n",
      "sel: 96\n",
      "sel_only_pos: 0\n",
      "sel_only_neg: 96\n",
      "Adding samples to /CB300\n"
     ]
    },
    {
     "name": "stderr",
     "output_type": "stream",
     "text": [
      "100%|███████████████████████████████████████████| 96/96 [00:02<00:00, 37.94it/s]\n"
     ]
    },
    {
     "name": "stdout",
     "output_type": "stream",
     "text": [
      "96 items saved to /home/sadman/arctic_mammal/saved_database/db_test_3.0.h5\n",
      "target_wav_filename: /data/WCS/Cape_Bathurst_300_2018_2019/1208533023.041219165015.wav\n",
      "Total annotations found:  2\n",
      "sel: 97\n",
      "sel_only_pos: 0\n",
      "sel_only_neg: 97\n",
      "Adding samples to /CB300\n"
     ]
    },
    {
     "name": "stderr",
     "output_type": "stream",
     "text": [
      "100%|███████████████████████████████████████████| 97/97 [00:02<00:00, 38.12it/s]\n"
     ]
    },
    {
     "name": "stdout",
     "output_type": "stream",
     "text": [
      "97 items saved to /home/sadman/arctic_mammal/saved_database/db_test_3.0.h5\n",
      "target_wav_filename: /data/WCS/Cape_Bathurst_300_2018_2019/1208533023.050107185015.wav\n",
      "Total annotations found:  6\n",
      "sel: 87\n",
      "sel_only_pos: 0\n",
      "sel_only_neg: 87\n",
      "Adding samples to /CB300\n"
     ]
    },
    {
     "name": "stderr",
     "output_type": "stream",
     "text": [
      "100%|███████████████████████████████████████████| 87/87 [00:02<00:00, 37.52it/s]\n"
     ]
    },
    {
     "name": "stdout",
     "output_type": "stream",
     "text": [
      "87 items saved to /home/sadman/arctic_mammal/saved_database/db_test_3.0.h5\n",
      "target_wav_filename: /data/WCS/Cape_Bathurst_300_2018_2019/1208533023.050114025015.wav\n",
      "Total annotations found:  10\n",
      "sel: 84\n",
      "sel_only_pos: 0\n",
      "sel_only_neg: 84\n",
      "Adding samples to /CB300\n"
     ]
    },
    {
     "name": "stderr",
     "output_type": "stream",
     "text": [
      "100%|███████████████████████████████████████████| 84/84 [00:02<00:00, 37.88it/s]\n"
     ]
    },
    {
     "name": "stdout",
     "output_type": "stream",
     "text": [
      "84 items saved to /home/sadman/arctic_mammal/saved_database/db_test_3.0.h5\n",
      "target_wav_filename: /data/WCS/Cape_Bathurst_300_2018_2019/1208533023.041104035015.wav\n",
      "Total annotations found:  1\n",
      "sel: 98\n",
      "sel_only_pos: 0\n",
      "sel_only_neg: 98\n",
      "Adding samples to /CB300\n"
     ]
    },
    {
     "name": "stderr",
     "output_type": "stream",
     "text": [
      "100%|███████████████████████████████████████████| 98/98 [00:03<00:00, 28.00it/s]\n"
     ]
    },
    {
     "name": "stdout",
     "output_type": "stream",
     "text": [
      "98 items saved to /home/sadman/arctic_mammal/saved_database/db_test_3.0.h5\n",
      "target_wav_filename: /data/WCS/Cape_Bathurst_300_2018_2019/1208533023.050115055015.wav\n",
      "Total annotations found:  2\n",
      "sel: 97\n",
      "sel_only_pos: 0\n",
      "sel_only_neg: 97\n",
      "Adding samples to /CB300\n"
     ]
    },
    {
     "name": "stderr",
     "output_type": "stream",
     "text": [
      "100%|███████████████████████████████████████████| 97/97 [00:02<00:00, 37.05it/s]\n"
     ]
    },
    {
     "name": "stdout",
     "output_type": "stream",
     "text": [
      "97 items saved to /home/sadman/arctic_mammal/saved_database/db_test_3.0.h5\n",
      "target_wav_filename: /data/WCS/Cape_Bathurst_300_2018_2019/1208533023.050219125015.wav\n",
      "Total annotations found:  2\n",
      "sel: 98\n",
      "sel_only_pos: 0\n",
      "sel_only_neg: 98\n",
      "Adding samples to /CB300\n"
     ]
    },
    {
     "name": "stderr",
     "output_type": "stream",
     "text": [
      "100%|███████████████████████████████████████████| 98/98 [00:02<00:00, 38.11it/s]\n"
     ]
    },
    {
     "name": "stdout",
     "output_type": "stream",
     "text": [
      "98 items saved to /home/sadman/arctic_mammal/saved_database/db_test_3.0.h5\n",
      "target_wav_filename: /data/WCS/Cape_Bathurst_300_2018_2019/1208533023.041223025015.wav\n",
      "Total annotations found:  2\n",
      "sel: 97\n",
      "sel_only_pos: 0\n",
      "sel_only_neg: 97\n",
      "Adding samples to /CB300\n"
     ]
    },
    {
     "name": "stderr",
     "output_type": "stream",
     "text": [
      "100%|███████████████████████████████████████████| 97/97 [00:02<00:00, 38.47it/s]\n"
     ]
    },
    {
     "name": "stdout",
     "output_type": "stream",
     "text": [
      "97 items saved to /home/sadman/arctic_mammal/saved_database/db_test_3.0.h5\n",
      "target_wav_filename: /data/WCS/Cape_Bathurst_300_2018_2019/1208533023.041018085015.wav\n",
      "Total annotations found:  3\n",
      "sel: 97\n",
      "sel_only_pos: 0\n",
      "sel_only_neg: 97\n",
      "Adding samples to /CB300\n"
     ]
    },
    {
     "name": "stderr",
     "output_type": "stream",
     "text": [
      "100%|███████████████████████████████████████████| 97/97 [00:02<00:00, 38.44it/s]\n"
     ]
    },
    {
     "name": "stdout",
     "output_type": "stream",
     "text": [
      "97 items saved to /home/sadman/arctic_mammal/saved_database/db_test_3.0.h5\n",
      "target_wav_filename: /data/WCS/Cape_Bathurst_300_2018_2019/1208533023.041031075015.wav\n",
      "Total annotations found:  15\n",
      "sel: 77\n",
      "sel_only_pos: 0\n",
      "sel_only_neg: 77\n",
      "Adding samples to /CB300\n"
     ]
    },
    {
     "name": "stderr",
     "output_type": "stream",
     "text": [
      "100%|███████████████████████████████████████████| 77/77 [00:01<00:00, 38.54it/s]\n"
     ]
    },
    {
     "name": "stdout",
     "output_type": "stream",
     "text": [
      "77 items saved to /home/sadman/arctic_mammal/saved_database/db_test_3.0.h5\n",
      "target_wav_filename: /data/WCS/Cape_Bathurst_300_2018_2019/1208533023.050218225015.wav\n",
      "Total annotations found:  5\n",
      "sel: 91\n",
      "sel_only_pos: 0\n",
      "sel_only_neg: 91\n",
      "Adding samples to /CB300\n"
     ]
    },
    {
     "name": "stderr",
     "output_type": "stream",
     "text": [
      "100%|███████████████████████████████████████████| 91/91 [00:02<00:00, 38.60it/s]\n"
     ]
    },
    {
     "name": "stdout",
     "output_type": "stream",
     "text": [
      "91 items saved to /home/sadman/arctic_mammal/saved_database/db_test_3.0.h5\n",
      "target_wav_filename: /data/WCS/Cape_Bathurst_300_2018_2019/1208533023.050109005015.wav\n",
      "Total annotations found:  9\n",
      "sel: 84\n",
      "sel_only_pos: 0\n",
      "sel_only_neg: 84\n",
      "Adding samples to /CB300\n"
     ]
    },
    {
     "name": "stderr",
     "output_type": "stream",
     "text": [
      "100%|███████████████████████████████████████████| 84/84 [00:02<00:00, 37.13it/s]\n"
     ]
    },
    {
     "name": "stdout",
     "output_type": "stream",
     "text": [
      "84 items saved to /home/sadman/arctic_mammal/saved_database/db_test_3.0.h5\n",
      "target_wav_filename: /data/WCS/Cape_Bathurst_300_2018_2019/1208533023.041216225015.wav\n",
      "Total annotations found:  3\n",
      "sel: 97\n",
      "sel_only_pos: 0\n",
      "sel_only_neg: 97\n",
      "Adding samples to /CB300\n"
     ]
    },
    {
     "name": "stderr",
     "output_type": "stream",
     "text": [
      "100%|███████████████████████████████████████████| 97/97 [00:02<00:00, 38.64it/s]\n"
     ]
    },
    {
     "name": "stdout",
     "output_type": "stream",
     "text": [
      "97 items saved to /home/sadman/arctic_mammal/saved_database/db_test_3.0.h5\n",
      "target_wav_filename: /data/WCS/Cape_Bathurst_300_2018_2019/1208533023.050316135015.wav\n",
      "Total annotations found:  1\n",
      "sel: 99\n",
      "sel_only_pos: 0\n",
      "sel_only_neg: 99\n",
      "Adding samples to /CB300\n"
     ]
    },
    {
     "name": "stderr",
     "output_type": "stream",
     "text": [
      "100%|███████████████████████████████████████████| 99/99 [00:02<00:00, 36.91it/s]\n"
     ]
    },
    {
     "name": "stdout",
     "output_type": "stream",
     "text": [
      "99 items saved to /home/sadman/arctic_mammal/saved_database/db_test_3.0.h5\n",
      "target_wav_filename: /data/WCS/Cape_Bathurst_300_2018_2019/1208533023.050309175015.wav\n",
      "Total annotations found:  2\n",
      "sel: 96\n",
      "sel_only_pos: 0\n",
      "sel_only_neg: 96\n",
      "Adding samples to /CB300\n"
     ]
    },
    {
     "name": "stderr",
     "output_type": "stream",
     "text": [
      "100%|███████████████████████████████████████████| 96/96 [00:02<00:00, 39.44it/s]\n"
     ]
    },
    {
     "name": "stdout",
     "output_type": "stream",
     "text": [
      "96 items saved to /home/sadman/arctic_mammal/saved_database/db_test_3.0.h5\n",
      "target_wav_filename: /data/WCS/Cape_Bathurst_300_2018_2019/1208533023.050110015015.wav\n",
      "Total annotations found:  2\n",
      "sel: 96\n",
      "sel_only_pos: 0\n",
      "sel_only_neg: 96\n",
      "Adding samples to /CB300\n"
     ]
    },
    {
     "name": "stderr",
     "output_type": "stream",
     "text": [
      "100%|███████████████████████████████████████████| 96/96 [00:02<00:00, 37.97it/s]\n"
     ]
    },
    {
     "name": "stdout",
     "output_type": "stream",
     "text": [
      "96 items saved to /home/sadman/arctic_mammal/saved_database/db_test_3.0.h5\n",
      "target_wav_filename: /data/WCS/Cape_Bathurst_300_2018_2019/1208533023.050104105015.wav\n",
      "Total annotations found:  2\n",
      "sel: 97\n",
      "sel_only_pos: 0\n",
      "sel_only_neg: 97\n",
      "Adding samples to /CB300\n"
     ]
    },
    {
     "name": "stderr",
     "output_type": "stream",
     "text": [
      "100%|███████████████████████████████████████████| 97/97 [00:03<00:00, 30.14it/s]\n"
     ]
    },
    {
     "name": "stdout",
     "output_type": "stream",
     "text": [
      "97 items saved to /home/sadman/arctic_mammal/saved_database/db_test_3.0.h5\n",
      "target_wav_filename: /data/WCS/Cape_Bathurst_300_2018_2019/1208533023.041126225015.wav\n",
      "Total annotations found:  1\n",
      "sel: 99\n",
      "sel_only_pos: 0\n",
      "sel_only_neg: 99\n",
      "Adding samples to /CB300\n"
     ]
    },
    {
     "name": "stderr",
     "output_type": "stream",
     "text": [
      "100%|███████████████████████████████████████████| 99/99 [00:02<00:00, 37.83it/s]\n"
     ]
    },
    {
     "name": "stdout",
     "output_type": "stream",
     "text": [
      "99 items saved to /home/sadman/arctic_mammal/saved_database/db_test_3.0.h5\n",
      "target_wav_filename: /data/WCS/Cape_Bathurst_300_2018_2019/1208533023.041101215015.wav\n",
      "Total annotations found:  4\n",
      "sel: 94\n",
      "sel_only_pos: 0\n",
      "sel_only_neg: 94\n",
      "Adding samples to /CB300\n"
     ]
    },
    {
     "name": "stderr",
     "output_type": "stream",
     "text": [
      "100%|███████████████████████████████████████████| 94/94 [00:02<00:00, 38.01it/s]\n"
     ]
    },
    {
     "name": "stdout",
     "output_type": "stream",
     "text": [
      "94 items saved to /home/sadman/arctic_mammal/saved_database/db_test_3.0.h5\n",
      "target_wav_filename: /data/WCS/Cape_Bathurst_300_2018_2019/1208533023.050114085015.wav\n",
      "Total annotations found:  8\n",
      "sel: 86\n",
      "sel_only_pos: 0\n",
      "sel_only_neg: 86\n",
      "Adding samples to /CB300\n"
     ]
    },
    {
     "name": "stderr",
     "output_type": "stream",
     "text": [
      "100%|███████████████████████████████████████████| 86/86 [00:02<00:00, 36.36it/s]\n"
     ]
    },
    {
     "name": "stdout",
     "output_type": "stream",
     "text": [
      "86 items saved to /home/sadman/arctic_mammal/saved_database/db_test_3.0.h5\n",
      "target_wav_filename: /data/WCS/Cape_Bathurst_300_2018_2019/1208533023.041022035015.wav\n",
      "Total annotations found:  2\n",
      "sel: 96\n",
      "sel_only_pos: 0\n",
      "sel_only_neg: 96\n",
      "Adding samples to /CB300\n"
     ]
    },
    {
     "name": "stderr",
     "output_type": "stream",
     "text": [
      "100%|███████████████████████████████████████████| 96/96 [00:02<00:00, 39.17it/s]\n"
     ]
    },
    {
     "name": "stdout",
     "output_type": "stream",
     "text": [
      "96 items saved to /home/sadman/arctic_mammal/saved_database/db_test_3.0.h5\n",
      "target_wav_filename: /data/WCS/Cape_Bathurst_300_2018_2019/1208533023.041216215015.wav\n",
      "Total annotations found:  2\n",
      "sel: 97\n",
      "sel_only_pos: 0\n",
      "sel_only_neg: 97\n",
      "Adding samples to /CB300\n"
     ]
    },
    {
     "name": "stderr",
     "output_type": "stream",
     "text": [
      "100%|███████████████████████████████████████████| 97/97 [00:02<00:00, 39.31it/s]\n"
     ]
    },
    {
     "name": "stdout",
     "output_type": "stream",
     "text": [
      "97 items saved to /home/sadman/arctic_mammal/saved_database/db_test_3.0.h5\n",
      "target_wav_filename: /data/WCS/Cape_Bathurst_300_2018_2019/1208533023.041125205015.wav\n",
      "Total annotations found:  3\n",
      "sel: 95\n",
      "sel_only_pos: 0\n",
      "sel_only_neg: 95\n",
      "Adding samples to /CB300\n"
     ]
    },
    {
     "name": "stderr",
     "output_type": "stream",
     "text": [
      "100%|███████████████████████████████████████████| 95/95 [00:02<00:00, 38.71it/s]\n"
     ]
    },
    {
     "name": "stdout",
     "output_type": "stream",
     "text": [
      "95 items saved to /home/sadman/arctic_mammal/saved_database/db_test_3.0.h5\n",
      "target_wav_filename: /data/WCS/Cape_Bathurst_300_2018_2019/1208533023.050310125015.wav\n",
      "Total annotations found:  6\n",
      "sel: 91\n",
      "sel_only_pos: 0\n",
      "sel_only_neg: 91\n",
      "Adding samples to /CB300\n"
     ]
    },
    {
     "name": "stderr",
     "output_type": "stream",
     "text": [
      "100%|███████████████████████████████████████████| 91/91 [00:02<00:00, 37.46it/s]\n"
     ]
    },
    {
     "name": "stdout",
     "output_type": "stream",
     "text": [
      "91 items saved to /home/sadman/arctic_mammal/saved_database/db_test_3.0.h5\n",
      "target_wav_filename: /data/WCS/Cape_Bathurst_300_2018_2019/1208533023.050310025015.wav\n",
      "Total annotations found:  6\n",
      "sel: 91\n",
      "sel_only_pos: 0\n",
      "sel_only_neg: 91\n",
      "Adding samples to /CB300\n"
     ]
    },
    {
     "name": "stderr",
     "output_type": "stream",
     "text": [
      "100%|███████████████████████████████████████████| 91/91 [00:02<00:00, 38.66it/s]\n"
     ]
    },
    {
     "name": "stdout",
     "output_type": "stream",
     "text": [
      "91 items saved to /home/sadman/arctic_mammal/saved_database/db_test_3.0.h5\n",
      "target_wav_filename: /data/WCS/Cape_Bathurst_300_2018_2019/1208533023.050128105015.wav\n",
      "Total annotations found:  2\n",
      "sel: 97\n",
      "sel_only_pos: 0\n",
      "sel_only_neg: 97\n",
      "Adding samples to /CB300\n"
     ]
    },
    {
     "name": "stderr",
     "output_type": "stream",
     "text": [
      "100%|███████████████████████████████████████████| 97/97 [00:02<00:00, 37.05it/s]\n"
     ]
    },
    {
     "name": "stdout",
     "output_type": "stream",
     "text": [
      "97 items saved to /home/sadman/arctic_mammal/saved_database/db_test_3.0.h5\n",
      "target_wav_filename: /data/WCS/Cape_Bathurst_300_2018_2019/1208533023.041115165015.wav\n",
      "Total annotations found:  1\n",
      "sel: 98\n",
      "sel_only_pos: 0\n",
      "sel_only_neg: 98\n",
      "Adding samples to /CB300\n"
     ]
    },
    {
     "name": "stderr",
     "output_type": "stream",
     "text": [
      "100%|███████████████████████████████████████████| 98/98 [00:02<00:00, 37.35it/s]\n"
     ]
    },
    {
     "name": "stdout",
     "output_type": "stream",
     "text": [
      "98 items saved to /home/sadman/arctic_mammal/saved_database/db_test_3.0.h5\n",
      "target_wav_filename: /data/WCS/Cape_Bathurst_300_2018_2019/1208533023.041103045015.wav\n",
      "Total annotations found:  7\n",
      "sel: 92\n",
      "sel_only_pos: 0\n",
      "sel_only_neg: 92\n",
      "Adding samples to /CB300\n"
     ]
    },
    {
     "name": "stderr",
     "output_type": "stream",
     "text": [
      "100%|███████████████████████████████████████████| 92/92 [00:02<00:00, 37.81it/s]\n"
     ]
    },
    {
     "name": "stdout",
     "output_type": "stream",
     "text": [
      "92 items saved to /home/sadman/arctic_mammal/saved_database/db_test_3.0.h5\n",
      "target_wav_filename: /data/WCS/Cape_Bathurst_300_2018_2019/1208533023.041121225015.wav\n",
      "Total annotations found:  5\n",
      "sel: 93\n",
      "sel_only_pos: 0\n",
      "sel_only_neg: 93\n",
      "Adding samples to /CB300\n"
     ]
    },
    {
     "name": "stderr",
     "output_type": "stream",
     "text": [
      "100%|███████████████████████████████████████████| 93/93 [00:03<00:00, 29.55it/s]\n"
     ]
    },
    {
     "name": "stdout",
     "output_type": "stream",
     "text": [
      "93 items saved to /home/sadman/arctic_mammal/saved_database/db_test_3.0.h5\n",
      "target_wav_filename: /data/WCS/Cape_Bathurst_300_2018_2019/1208533023.050105115015.wav\n",
      "Total annotations found:  1\n",
      "sel: 98\n",
      "sel_only_pos: 0\n",
      "sel_only_neg: 98\n",
      "Adding samples to /CB300\n"
     ]
    },
    {
     "name": "stderr",
     "output_type": "stream",
     "text": [
      "100%|███████████████████████████████████████████| 98/98 [00:02<00:00, 36.24it/s]\n"
     ]
    },
    {
     "name": "stdout",
     "output_type": "stream",
     "text": [
      "98 items saved to /home/sadman/arctic_mammal/saved_database/db_test_3.0.h5\n",
      "target_wav_filename: /data/WCS/Cape_Bathurst_300_2018_2019/1208533023.041014235015.wav\n",
      "Total annotations found:  2\n",
      "sel: 96\n",
      "sel_only_pos: 0\n",
      "sel_only_neg: 96\n",
      "Adding samples to /CB300\n"
     ]
    },
    {
     "name": "stderr",
     "output_type": "stream",
     "text": [
      "100%|███████████████████████████████████████████| 96/96 [00:02<00:00, 37.59it/s]\n"
     ]
    },
    {
     "name": "stdout",
     "output_type": "stream",
     "text": [
      "96 items saved to /home/sadman/arctic_mammal/saved_database/db_test_3.0.h5\n",
      "target_wav_filename: /data/WCS/Cape_Bathurst_300_2018_2019/1208533023.050107085015.wav\n",
      "Total annotations found:  17\n",
      "sel: 71\n",
      "sel_only_pos: 0\n",
      "sel_only_neg: 71\n",
      "Adding samples to /CB300\n"
     ]
    },
    {
     "name": "stderr",
     "output_type": "stream",
     "text": [
      "100%|███████████████████████████████████████████| 71/71 [00:01<00:00, 37.54it/s]\n"
     ]
    },
    {
     "name": "stdout",
     "output_type": "stream",
     "text": [
      "71 items saved to /home/sadman/arctic_mammal/saved_database/db_test_3.0.h5\n",
      "target_wav_filename: /data/WCS/Cape_Bathurst_300_2018_2019/1208533023.041208025015.wav\n",
      "Total annotations found:  3\n",
      "sel: 94\n",
      "sel_only_pos: 0\n",
      "sel_only_neg: 94\n",
      "Adding samples to /CB300\n"
     ]
    },
    {
     "name": "stderr",
     "output_type": "stream",
     "text": [
      "100%|███████████████████████████████████████████| 94/94 [00:02<00:00, 38.00it/s]\n"
     ]
    },
    {
     "name": "stdout",
     "output_type": "stream",
     "text": [
      "94 items saved to /home/sadman/arctic_mammal/saved_database/db_test_3.0.h5\n",
      "target_wav_filename: /data/WCS/Cape_Bathurst_300_2018_2019/1208533023.041123145015.wav\n",
      "Total annotations found:  1\n",
      "sel: 99\n",
      "sel_only_pos: 0\n",
      "sel_only_neg: 99\n",
      "Adding samples to /CB300\n"
     ]
    },
    {
     "name": "stderr",
     "output_type": "stream",
     "text": [
      "100%|███████████████████████████████████████████| 99/99 [00:02<00:00, 38.31it/s]\n"
     ]
    },
    {
     "name": "stdout",
     "output_type": "stream",
     "text": [
      "99 items saved to /home/sadman/arctic_mammal/saved_database/db_test_3.0.h5\n",
      "target_wav_filename: /data/WCS/Cape_Bathurst_300_2018_2019/1208533023.050209005015.wav\n",
      "Total annotations found:  2\n",
      "sel: 96\n",
      "sel_only_pos: 0\n",
      "sel_only_neg: 96\n",
      "Adding samples to /CB300\n"
     ]
    },
    {
     "name": "stderr",
     "output_type": "stream",
     "text": [
      "100%|███████████████████████████████████████████| 96/96 [00:02<00:00, 38.70it/s]\n"
     ]
    },
    {
     "name": "stdout",
     "output_type": "stream",
     "text": [
      "96 items saved to /home/sadman/arctic_mammal/saved_database/db_test_3.0.h5\n",
      "target_wav_filename: /data/WCS/Cape_Bathurst_300_2018_2019/1208533023.050101185015.wav\n",
      "Total annotations found:  30\n",
      "sel: 61\n",
      "sel_only_pos: 0\n",
      "sel_only_neg: 61\n",
      "Adding samples to /CB300\n"
     ]
    },
    {
     "name": "stderr",
     "output_type": "stream",
     "text": [
      "100%|███████████████████████████████████████████| 61/61 [00:01<00:00, 35.90it/s]\n"
     ]
    },
    {
     "name": "stdout",
     "output_type": "stream",
     "text": [
      "61 items saved to /home/sadman/arctic_mammal/saved_database/db_test_3.0.h5\n",
      "target_wav_filename: /data/WCS/Cape_Bathurst_300_2018_2019/1208533023.041031035015.wav\n",
      "Total annotations found:  21\n",
      "sel: 69\n",
      "sel_only_pos: 0\n",
      "sel_only_neg: 69\n",
      "Adding samples to /CB300\n"
     ]
    },
    {
     "name": "stderr",
     "output_type": "stream",
     "text": [
      "100%|███████████████████████████████████████████| 69/69 [00:01<00:00, 37.91it/s]\n"
     ]
    },
    {
     "name": "stdout",
     "output_type": "stream",
     "text": [
      "69 items saved to /home/sadman/arctic_mammal/saved_database/db_test_3.0.h5\n",
      "target_wav_filename: /data/WCS/Cape_Bathurst_300_2018_2019/1208533023.041129005015.wav\n",
      "Total annotations found:  4\n",
      "sel: 94\n",
      "sel_only_pos: 0\n",
      "sel_only_neg: 94\n",
      "Adding samples to /CB300\n"
     ]
    },
    {
     "name": "stderr",
     "output_type": "stream",
     "text": [
      "100%|███████████████████████████████████████████| 94/94 [00:02<00:00, 37.84it/s]\n"
     ]
    },
    {
     "name": "stdout",
     "output_type": "stream",
     "text": [
      "94 items saved to /home/sadman/arctic_mammal/saved_database/db_test_3.0.h5\n",
      "target_wav_filename: /data/WCS/Cape_Bathurst_300_2018_2019/1208533023.041118105015.wav\n",
      "Total annotations found:  2\n",
      "sel: 98\n",
      "sel_only_pos: 0\n",
      "sel_only_neg: 98\n",
      "Adding samples to /CB300\n"
     ]
    },
    {
     "name": "stderr",
     "output_type": "stream",
     "text": [
      "100%|███████████████████████████████████████████| 98/98 [00:02<00:00, 38.44it/s]\n"
     ]
    },
    {
     "name": "stdout",
     "output_type": "stream",
     "text": [
      "98 items saved to /home/sadman/arctic_mammal/saved_database/db_test_3.0.h5\n",
      "target_wav_filename: /data/WCS/Cape_Bathurst_300_2018_2019/1208533023.041012065015.wav\n",
      "Total annotations found:  6\n",
      "sel: 89\n",
      "sel_only_pos: 0\n",
      "sel_only_neg: 89\n",
      "Adding samples to /CB300\n"
     ]
    },
    {
     "name": "stderr",
     "output_type": "stream",
     "text": [
      "100%|███████████████████████████████████████████| 89/89 [00:02<00:00, 36.93it/s]\n"
     ]
    },
    {
     "name": "stdout",
     "output_type": "stream",
     "text": [
      "89 items saved to /home/sadman/arctic_mammal/saved_database/db_test_3.0.h5\n",
      "target_wav_filename: /data/WCS/Cape_Bathurst_300_2018_2019/1208533023.041026205015.wav\n",
      "Total annotations found:  1\n",
      "sel: 98\n",
      "sel_only_pos: 0\n",
      "sel_only_neg: 98\n",
      "Adding samples to /CB300\n"
     ]
    },
    {
     "name": "stderr",
     "output_type": "stream",
     "text": [
      "100%|███████████████████████████████████████████| 98/98 [00:02<00:00, 38.43it/s]\n"
     ]
    },
    {
     "name": "stdout",
     "output_type": "stream",
     "text": [
      "98 items saved to /home/sadman/arctic_mammal/saved_database/db_test_3.0.h5\n",
      "target_wav_filename: /data/WCS/Cape_Bathurst_300_2018_2019/1208533023.041216235015.wav\n",
      "Total annotations found:  4\n",
      "sel: 93\n",
      "sel_only_pos: 0\n",
      "sel_only_neg: 93\n",
      "Adding samples to /CB300\n"
     ]
    },
    {
     "name": "stderr",
     "output_type": "stream",
     "text": [
      "100%|███████████████████████████████████████████| 93/93 [00:03<00:00, 29.67it/s]\n"
     ]
    },
    {
     "name": "stdout",
     "output_type": "stream",
     "text": [
      "93 items saved to /home/sadman/arctic_mammal/saved_database/db_test_3.0.h5\n",
      "target_wav_filename: /data/WCS/Cape_Bathurst_300_2018_2019/1208533023.041217085015.wav\n",
      "Total annotations found:  1\n",
      "sel: 98\n",
      "sel_only_pos: 0\n",
      "sel_only_neg: 98\n",
      "Adding samples to /CB300\n"
     ]
    },
    {
     "name": "stderr",
     "output_type": "stream",
     "text": [
      "100%|███████████████████████████████████████████| 98/98 [00:02<00:00, 37.55it/s]\n"
     ]
    },
    {
     "name": "stdout",
     "output_type": "stream",
     "text": [
      "98 items saved to /home/sadman/arctic_mammal/saved_database/db_test_3.0.h5\n",
      "target_wav_filename: /data/WCS/Cape_Bathurst_300_2018_2019/1208533023.050104125015.wav\n",
      "Total annotations found:  2\n",
      "sel: 96\n",
      "sel_only_pos: 0\n",
      "sel_only_neg: 96\n",
      "Adding samples to /CB300\n"
     ]
    },
    {
     "name": "stderr",
     "output_type": "stream",
     "text": [
      "100%|███████████████████████████████████████████| 96/96 [00:02<00:00, 37.76it/s]\n"
     ]
    },
    {
     "name": "stdout",
     "output_type": "stream",
     "text": [
      "96 items saved to /home/sadman/arctic_mammal/saved_database/db_test_3.0.h5\n",
      "target_wav_filename: /data/WCS/Cape_Bathurst_300_2018_2019/1208533023.041029015015.wav\n",
      "Total annotations found:  8\n",
      "sel: 86\n",
      "sel_only_pos: 0\n",
      "sel_only_neg: 86\n",
      "Adding samples to /CB300\n"
     ]
    },
    {
     "name": "stderr",
     "output_type": "stream",
     "text": [
      "100%|███████████████████████████████████████████| 86/86 [00:02<00:00, 38.56it/s]\n"
     ]
    },
    {
     "name": "stdout",
     "output_type": "stream",
     "text": [
      "86 items saved to /home/sadman/arctic_mammal/saved_database/db_test_3.0.h5\n",
      "target_wav_filename: /data/WCS/Cape_Bathurst_300_2018_2019/1208533023.041125115015.wav\n",
      "Total annotations found:  4\n",
      "sel: 92\n",
      "sel_only_pos: 0\n",
      "sel_only_neg: 92\n",
      "Adding samples to /CB300\n"
     ]
    },
    {
     "name": "stderr",
     "output_type": "stream",
     "text": [
      "100%|███████████████████████████████████████████| 92/92 [00:02<00:00, 37.64it/s]"
     ]
    },
    {
     "name": "stdout",
     "output_type": "stream",
     "text": [
      "92 items saved to /home/sadman/arctic_mammal/saved_database/db_test_3.0.h5\n"
     ]
    },
    {
     "name": "stderr",
     "output_type": "stream",
     "text": [
      "\n"
     ]
    }
   ],
   "source": [
    "# ========= Adding Negative (no BH) samples ==========\n",
    "total_wav_parsed = 0\n",
    "total_number_of_negative_samples=0\n",
    "\n",
    "for file_index in file_indices_random:\n",
    "    target_wav_filename=list_of_wav_files[file_index]\n",
    "    # target_wav_filename=target_wav_filename[3:len(target_wav_filename)]\n",
    "    target_matched_annot_df = annot_df[annot_df['filename'].str.find(os.path.basename(target_wav_filename)) != -1]\n",
    "    \n",
    "    if(len(target_matched_annot_df)!=0):\n",
    "        print(\"target_wav_filename:\", target_wav_filename)\n",
    "        total_time_of_file = librosa.get_duration(filename=target_wav_filename)\n",
    "        target_files_with_len = pd.DataFrame({'filename':[target_wav_filename], \n",
    "                                              'duration':[total_time_of_file]})\n",
    "\n",
    "        print(\"Total annotations found: \", len(target_matched_annot_df))\n",
    "\n",
    "        #Standardize annotation table format\n",
    "        annot, label_dict = sl.standardize(target_matched_annot_df, return_label_dict=True, trim_table=True)\n",
    "\n",
    "\n",
    "        sel = sl.select_by_segmenting(files=target_files_with_len, \n",
    "                                   length=spec_cfg['duration'], \n",
    "                                   annotations=annot, \n",
    "                                   step=spec_cfg['duration'],\n",
    "                                   keep_only_empty=True) \n",
    "\n",
    "        print(\"sel:\", len(sel))\n",
    "        \n",
    "        # Check if there is any BH class in the selection table\n",
    "        sel_only_neg=sel.loc[sel['label']==0] \n",
    "        sel_only_pos=sel.loc[sel['label']==1]\n",
    "        \n",
    "        print(\"sel_only_pos:\", len(sel_only_pos))\n",
    "        print(\"sel_only_neg:\", len(sel_only_neg))\n",
    "        \n",
    "        print(\"Adding samples to \"+dataset_name)\n",
    "        \n",
    "        create_database(output_file=db_save_path+db_save_filename, data_dir='',\n",
    "                                        dataset_name=dataset_name+'/Neg', selections=sel_only_neg,\n",
    "                                        audio_repres=spec_cfg)\n",
    "\n",
    "        total_wav_parsed+=1\n",
    "        total_number_of_negative_samples+=len(sel_only_neg)"
   ]
  },
  {
   "cell_type": "code",
   "execution_count": 7,
   "id": "4d291901",
   "metadata": {},
   "outputs": [],
   "source": [
    "# Filter the annotations with 1/2/3 values in the Tonal, Signal strength, and Background columns\n",
    "if(filter_based_on_quality_flag):\n",
    "    annot_df=annot_df[annot_df['Tonal'].isin(['1', '2', '3'])]"
   ]
  },
  {
   "cell_type": "markdown",
   "id": "6abf94a8",
   "metadata": {},
   "source": [
    "# Add Positive (BH) samples"
   ]
  },
  {
   "cell_type": "code",
   "execution_count": 8,
   "id": "4f44ad97",
   "metadata": {},
   "outputs": [],
   "source": [
    "# ========= Adding Positive (BH) samples ==========\n",
    "map_to_ketos_annot_std ={'Begin Path': 'filename',\n",
    "                          'File Offset (s)': 'start',\n",
    "                          'species': 'label'\n",
    "                        } \n",
    "std_annot_BH_df = sl.standardize(table=annot_df, mapper=map_to_ketos_annot_std, \n",
    "                              signal_labels=['BH'], trim_table=True)\n",
    "sel_table_BH = sl.select(annotations=std_annot_BH_df, length=spec_cfg['duration'], step=0.5, min_overlap=0.8, center=False)"
   ]
  },
  {
   "cell_type": "code",
   "execution_count": 9,
   "id": "00705ed9",
   "metadata": {},
   "outputs": [
    {
     "name": "stderr",
     "output_type": "stream",
     "text": [
      "100%|███████████████████████████████████████| 4785/4785 [02:00<00:00, 39.61it/s]"
     ]
    },
    {
     "name": "stdout",
     "output_type": "stream",
     "text": [
      "4785 items saved to /home/sadman/arctic_mammal/saved_database/db_test_3.0.h5\n"
     ]
    },
    {
     "name": "stderr",
     "output_type": "stream",
     "text": [
      "\n"
     ]
    }
   ],
   "source": [
    "create_database(output_file=db_save_path+db_save_filename, data_dir='',\n",
    "                                dataset_name=dataset_name+'/BH',selections=std_annot_BH_df,\n",
    "                                audio_repres=spec_cfg)"
   ]
  },
  {
   "cell_type": "code",
   "execution_count": 10,
   "id": "c68c2c8a",
   "metadata": {},
   "outputs": [
    {
     "name": "stdout",
     "output_type": "stream",
     "text": [
      "Total negative samples saved:  7308\n",
      "Total BH samples saved (Before stepping augmentation):  4785\n",
      "Total BH samples saved (After stepping augmentation):  8205\n"
     ]
    }
   ],
   "source": [
    "print(\"Total negative samples saved: \", total_number_of_negative_samples)\n",
    "print(\"Total BH samples saved (Before stepping augmentation): \", len(std_annot_BH_df))\n",
    "print(\"Total BH samples saved (After stepping augmentation): \", len(sel_table_BH))"
   ]
  }
 ],
 "metadata": {
  "kernelspec": {
   "display_name": "Python 3 (ipykernel)",
   "language": "python",
   "name": "python3"
  },
  "language_info": {
   "codemirror_mode": {
    "name": "ipython",
    "version": 3
   },
   "file_extension": ".py",
   "mimetype": "text/x-python",
   "name": "python",
   "nbconvert_exporter": "python",
   "pygments_lexer": "ipython3",
   "version": "3.7.11"
  }
 },
 "nbformat": 4,
 "nbformat_minor": 5
}
